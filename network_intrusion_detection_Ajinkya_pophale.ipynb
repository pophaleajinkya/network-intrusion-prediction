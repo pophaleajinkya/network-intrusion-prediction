{
  "cells": [
    {
      "cell_type": "markdown",
      "source": [
        "#Course: Computer Networks - 1\n",
        "#Project: Network Intrusion Detection            \n",
        "#Name: Ajinkya Vikas Pophale\n"
      ],
      "metadata": {
        "id": "FcaK0foMPOj4"
      }
    },
    {
      "cell_type": "markdown",
      "source": [
        "#Import all the required Libraries"
      ],
      "metadata": {
        "id": "pBIGTEQiSK1r"
      }
    },
    {
      "cell_type": "code",
      "execution_count": null,
      "metadata": {
        "id": "ubn_Wdf4HyzZ"
      },
      "outputs": [],
      "source": [
        "import pandas as pd\n",
        "import numpy as np\n",
        "from sklearn.model_selection import train_test_split\n",
        "from sklearn.preprocessing import LabelEncoder, StandardScaler\n",
        "from sklearn.tree import DecisionTreeClassifier\n",
        "from sklearn.linear_model import LogisticRegression\n",
        "from sklearn.metrics import accuracy_score, recall_score,precision_score,f1_score\n",
        "from google.colab import files\n",
        "import matplotlib.pyplot as plt\n",
        "import seaborn as sns\n"
      ]
    },
    {
      "cell_type": "markdown",
      "metadata": {
        "id": "VIAGI5xtI1B3"
      },
      "source": [
        "# Load Dataset\n"
      ]
    },
    {
      "cell_type": "code",
      "execution_count": null,
      "metadata": {
        "id": "oUMd-8bBIQoG"
      },
      "outputs": [],
      "source": [
        "df = pd.read_csv(\"train_dataset.csv\")"
      ]
    },
    {
      "cell_type": "markdown",
      "metadata": {
        "id": "DyEKd-EEJ47p"
      },
      "source": [
        "# **Basic EDA**"
      ]
    },
    {
      "cell_type": "code",
      "execution_count": null,
      "metadata": {
        "colab": {
          "base_uri": "https://localhost:8080/",
          "height": 352
        },
        "id": "CA5SIP8JJ2Vp",
        "outputId": "1c0166ae-fc0f-47d9-9cf1-0ff0e23972c4"
      },
      "outputs": [
        {
          "output_type": "execute_result",
          "data": {
            "text/plain": [
              "   Port Number  Received Packets  Received Bytes  Sent Bytes  Sent Packets  \\\n",
              "0            4            305111        25506841   100234870        284579   \n",
              "1            2               209           20671     6316631           274   \n",
              "2            4               150           19774     6475473          3054   \n",
              "3            1              4699       100986365   124574097        413351   \n",
              "4            3               990          104058       88896           778   \n",
              "\n",
              "   Port alive Duration (S)  Packets Rx Dropped  Packets Tx Dropped  \\\n",
              "0                     1657                   0                   0   \n",
              "1                       96                   0                   0   \n",
              "2                      166                   0                   0   \n",
              "3                     2267                   0                   0   \n",
              "4                      792                   0                   0   \n",
              "\n",
              "   Packets Rx Errors  Packets Tx Errors  ...  Unknown Load/Rate  \\\n",
              "0                  0                  0  ...                  0   \n",
              "1                  0                  0  ...             183877   \n",
              "2                  0                  0  ...                502   \n",
              "3                  0                  0  ...                  0   \n",
              "4                  0                  0  ...                715   \n",
              "\n",
              "   Unknown Load/Latest  Latest bytes counter  is_valid  Table ID  \\\n",
              "0                    0                     0         1         0   \n",
              "1              6303353                183877         1         0   \n",
              "2              6439888                   502         1         0   \n",
              "3                    0                     0         1         0   \n",
              "4                 7152                   715         1         0   \n",
              "\n",
              "   Active Flow Entries  Packets Looked Up  Packets Matched  Max Size  Label  \n",
              "0                    6             992868           992744        -1      0  \n",
              "1                    8              90551            90494        -1      3  \n",
              "2                    6               7516             7418        -1      2  \n",
              "3                    8             664849           664714        -1      0  \n",
              "4                    5               4328             4201        -1      1  \n",
              "\n",
              "[5 rows x 32 columns]"
            ],
            "text/html": [
              "\n",
              "\n",
              "  <div id=\"df-3a8edf55-46f0-4aff-889b-a0daba2d420e\">\n",
              "    <div class=\"colab-df-container\">\n",
              "      <div>\n",
              "<style scoped>\n",
              "    .dataframe tbody tr th:only-of-type {\n",
              "        vertical-align: middle;\n",
              "    }\n",
              "\n",
              "    .dataframe tbody tr th {\n",
              "        vertical-align: top;\n",
              "    }\n",
              "\n",
              "    .dataframe thead th {\n",
              "        text-align: right;\n",
              "    }\n",
              "</style>\n",
              "<table border=\"1\" class=\"dataframe\">\n",
              "  <thead>\n",
              "    <tr style=\"text-align: right;\">\n",
              "      <th></th>\n",
              "      <th>Port Number</th>\n",
              "      <th>Received Packets</th>\n",
              "      <th>Received Bytes</th>\n",
              "      <th>Sent Bytes</th>\n",
              "      <th>Sent Packets</th>\n",
              "      <th>Port alive Duration (S)</th>\n",
              "      <th>Packets Rx Dropped</th>\n",
              "      <th>Packets Tx Dropped</th>\n",
              "      <th>Packets Rx Errors</th>\n",
              "      <th>Packets Tx Errors</th>\n",
              "      <th>...</th>\n",
              "      <th>Unknown Load/Rate</th>\n",
              "      <th>Unknown Load/Latest</th>\n",
              "      <th>Latest bytes counter</th>\n",
              "      <th>is_valid</th>\n",
              "      <th>Table ID</th>\n",
              "      <th>Active Flow Entries</th>\n",
              "      <th>Packets Looked Up</th>\n",
              "      <th>Packets Matched</th>\n",
              "      <th>Max Size</th>\n",
              "      <th>Label</th>\n",
              "    </tr>\n",
              "  </thead>\n",
              "  <tbody>\n",
              "    <tr>\n",
              "      <th>0</th>\n",
              "      <td>4</td>\n",
              "      <td>305111</td>\n",
              "      <td>25506841</td>\n",
              "      <td>100234870</td>\n",
              "      <td>284579</td>\n",
              "      <td>1657</td>\n",
              "      <td>0</td>\n",
              "      <td>0</td>\n",
              "      <td>0</td>\n",
              "      <td>0</td>\n",
              "      <td>...</td>\n",
              "      <td>0</td>\n",
              "      <td>0</td>\n",
              "      <td>0</td>\n",
              "      <td>1</td>\n",
              "      <td>0</td>\n",
              "      <td>6</td>\n",
              "      <td>992868</td>\n",
              "      <td>992744</td>\n",
              "      <td>-1</td>\n",
              "      <td>0</td>\n",
              "    </tr>\n",
              "    <tr>\n",
              "      <th>1</th>\n",
              "      <td>2</td>\n",
              "      <td>209</td>\n",
              "      <td>20671</td>\n",
              "      <td>6316631</td>\n",
              "      <td>274</td>\n",
              "      <td>96</td>\n",
              "      <td>0</td>\n",
              "      <td>0</td>\n",
              "      <td>0</td>\n",
              "      <td>0</td>\n",
              "      <td>...</td>\n",
              "      <td>183877</td>\n",
              "      <td>6303353</td>\n",
              "      <td>183877</td>\n",
              "      <td>1</td>\n",
              "      <td>0</td>\n",
              "      <td>8</td>\n",
              "      <td>90551</td>\n",
              "      <td>90494</td>\n",
              "      <td>-1</td>\n",
              "      <td>3</td>\n",
              "    </tr>\n",
              "    <tr>\n",
              "      <th>2</th>\n",
              "      <td>4</td>\n",
              "      <td>150</td>\n",
              "      <td>19774</td>\n",
              "      <td>6475473</td>\n",
              "      <td>3054</td>\n",
              "      <td>166</td>\n",
              "      <td>0</td>\n",
              "      <td>0</td>\n",
              "      <td>0</td>\n",
              "      <td>0</td>\n",
              "      <td>...</td>\n",
              "      <td>502</td>\n",
              "      <td>6439888</td>\n",
              "      <td>502</td>\n",
              "      <td>1</td>\n",
              "      <td>0</td>\n",
              "      <td>6</td>\n",
              "      <td>7516</td>\n",
              "      <td>7418</td>\n",
              "      <td>-1</td>\n",
              "      <td>2</td>\n",
              "    </tr>\n",
              "    <tr>\n",
              "      <th>3</th>\n",
              "      <td>1</td>\n",
              "      <td>4699</td>\n",
              "      <td>100986365</td>\n",
              "      <td>124574097</td>\n",
              "      <td>413351</td>\n",
              "      <td>2267</td>\n",
              "      <td>0</td>\n",
              "      <td>0</td>\n",
              "      <td>0</td>\n",
              "      <td>0</td>\n",
              "      <td>...</td>\n",
              "      <td>0</td>\n",
              "      <td>0</td>\n",
              "      <td>0</td>\n",
              "      <td>1</td>\n",
              "      <td>0</td>\n",
              "      <td>8</td>\n",
              "      <td>664849</td>\n",
              "      <td>664714</td>\n",
              "      <td>-1</td>\n",
              "      <td>0</td>\n",
              "    </tr>\n",
              "    <tr>\n",
              "      <th>4</th>\n",
              "      <td>3</td>\n",
              "      <td>990</td>\n",
              "      <td>104058</td>\n",
              "      <td>88896</td>\n",
              "      <td>778</td>\n",
              "      <td>792</td>\n",
              "      <td>0</td>\n",
              "      <td>0</td>\n",
              "      <td>0</td>\n",
              "      <td>0</td>\n",
              "      <td>...</td>\n",
              "      <td>715</td>\n",
              "      <td>7152</td>\n",
              "      <td>715</td>\n",
              "      <td>1</td>\n",
              "      <td>0</td>\n",
              "      <td>5</td>\n",
              "      <td>4328</td>\n",
              "      <td>4201</td>\n",
              "      <td>-1</td>\n",
              "      <td>1</td>\n",
              "    </tr>\n",
              "  </tbody>\n",
              "</table>\n",
              "<p>5 rows × 32 columns</p>\n",
              "</div>\n",
              "      <button class=\"colab-df-convert\" onclick=\"convertToInteractive('df-3a8edf55-46f0-4aff-889b-a0daba2d420e')\"\n",
              "              title=\"Convert this dataframe to an interactive table.\"\n",
              "              style=\"display:none;\">\n",
              "\n",
              "  <svg xmlns=\"http://www.w3.org/2000/svg\" height=\"24px\"viewBox=\"0 0 24 24\"\n",
              "       width=\"24px\">\n",
              "    <path d=\"M0 0h24v24H0V0z\" fill=\"none\"/>\n",
              "    <path d=\"M18.56 5.44l.94 2.06.94-2.06 2.06-.94-2.06-.94-.94-2.06-.94 2.06-2.06.94zm-11 1L8.5 8.5l.94-2.06 2.06-.94-2.06-.94L8.5 2.5l-.94 2.06-2.06.94zm10 10l.94 2.06.94-2.06 2.06-.94-2.06-.94-.94-2.06-.94 2.06-2.06.94z\"/><path d=\"M17.41 7.96l-1.37-1.37c-.4-.4-.92-.59-1.43-.59-.52 0-1.04.2-1.43.59L10.3 9.45l-7.72 7.72c-.78.78-.78 2.05 0 2.83L4 21.41c.39.39.9.59 1.41.59.51 0 1.02-.2 1.41-.59l7.78-7.78 2.81-2.81c.8-.78.8-2.07 0-2.86zM5.41 20L4 18.59l7.72-7.72 1.47 1.35L5.41 20z\"/>\n",
              "  </svg>\n",
              "      </button>\n",
              "\n",
              "\n",
              "\n",
              "    <div id=\"df-565f5eac-d95c-4c92-be65-953c16d0facb\">\n",
              "      <button class=\"colab-df-quickchart\" onclick=\"quickchart('df-565f5eac-d95c-4c92-be65-953c16d0facb')\"\n",
              "              title=\"Suggest charts.\"\n",
              "              style=\"display:none;\">\n",
              "\n",
              "<svg xmlns=\"http://www.w3.org/2000/svg\" height=\"24px\"viewBox=\"0 0 24 24\"\n",
              "     width=\"24px\">\n",
              "    <g>\n",
              "        <path d=\"M19 3H5c-1.1 0-2 .9-2 2v14c0 1.1.9 2 2 2h14c1.1 0 2-.9 2-2V5c0-1.1-.9-2-2-2zM9 17H7v-7h2v7zm4 0h-2V7h2v10zm4 0h-2v-4h2v4z\"/>\n",
              "    </g>\n",
              "</svg>\n",
              "      </button>\n",
              "    </div>\n",
              "\n",
              "<style>\n",
              "  .colab-df-quickchart {\n",
              "    background-color: #E8F0FE;\n",
              "    border: none;\n",
              "    border-radius: 50%;\n",
              "    cursor: pointer;\n",
              "    display: none;\n",
              "    fill: #1967D2;\n",
              "    height: 32px;\n",
              "    padding: 0 0 0 0;\n",
              "    width: 32px;\n",
              "  }\n",
              "\n",
              "  .colab-df-quickchart:hover {\n",
              "    background-color: #E2EBFA;\n",
              "    box-shadow: 0px 1px 2px rgba(60, 64, 67, 0.3), 0px 1px 3px 1px rgba(60, 64, 67, 0.15);\n",
              "    fill: #174EA6;\n",
              "  }\n",
              "\n",
              "  [theme=dark] .colab-df-quickchart {\n",
              "    background-color: #3B4455;\n",
              "    fill: #D2E3FC;\n",
              "  }\n",
              "\n",
              "  [theme=dark] .colab-df-quickchart:hover {\n",
              "    background-color: #434B5C;\n",
              "    box-shadow: 0px 1px 3px 1px rgba(0, 0, 0, 0.15);\n",
              "    filter: drop-shadow(0px 1px 2px rgba(0, 0, 0, 0.3));\n",
              "    fill: #FFFFFF;\n",
              "  }\n",
              "</style>\n",
              "\n",
              "    <script>\n",
              "      async function quickchart(key) {\n",
              "        const containerElement = document.querySelector('#' + key);\n",
              "        const charts = await google.colab.kernel.invokeFunction(\n",
              "            'suggestCharts', [key], {});\n",
              "      }\n",
              "    </script>\n",
              "\n",
              "      <script>\n",
              "\n",
              "function displayQuickchartButton(domScope) {\n",
              "  let quickchartButtonEl =\n",
              "    domScope.querySelector('#df-565f5eac-d95c-4c92-be65-953c16d0facb button.colab-df-quickchart');\n",
              "  quickchartButtonEl.style.display =\n",
              "    google.colab.kernel.accessAllowed ? 'block' : 'none';\n",
              "}\n",
              "\n",
              "        displayQuickchartButton(document);\n",
              "      </script>\n",
              "      <style>\n",
              "    .colab-df-container {\n",
              "      display:flex;\n",
              "      flex-wrap:wrap;\n",
              "      gap: 12px;\n",
              "    }\n",
              "\n",
              "    .colab-df-convert {\n",
              "      background-color: #E8F0FE;\n",
              "      border: none;\n",
              "      border-radius: 50%;\n",
              "      cursor: pointer;\n",
              "      display: none;\n",
              "      fill: #1967D2;\n",
              "      height: 32px;\n",
              "      padding: 0 0 0 0;\n",
              "      width: 32px;\n",
              "    }\n",
              "\n",
              "    .colab-df-convert:hover {\n",
              "      background-color: #E2EBFA;\n",
              "      box-shadow: 0px 1px 2px rgba(60, 64, 67, 0.3), 0px 1px 3px 1px rgba(60, 64, 67, 0.15);\n",
              "      fill: #174EA6;\n",
              "    }\n",
              "\n",
              "    [theme=dark] .colab-df-convert {\n",
              "      background-color: #3B4455;\n",
              "      fill: #D2E3FC;\n",
              "    }\n",
              "\n",
              "    [theme=dark] .colab-df-convert:hover {\n",
              "      background-color: #434B5C;\n",
              "      box-shadow: 0px 1px 3px 1px rgba(0, 0, 0, 0.15);\n",
              "      filter: drop-shadow(0px 1px 2px rgba(0, 0, 0, 0.3));\n",
              "      fill: #FFFFFF;\n",
              "    }\n",
              "  </style>\n",
              "\n",
              "      <script>\n",
              "        const buttonEl =\n",
              "          document.querySelector('#df-3a8edf55-46f0-4aff-889b-a0daba2d420e button.colab-df-convert');\n",
              "        buttonEl.style.display =\n",
              "          google.colab.kernel.accessAllowed ? 'block' : 'none';\n",
              "\n",
              "        async function convertToInteractive(key) {\n",
              "          const element = document.querySelector('#df-3a8edf55-46f0-4aff-889b-a0daba2d420e');\n",
              "          const dataTable =\n",
              "            await google.colab.kernel.invokeFunction('convertToInteractive',\n",
              "                                                     [key], {});\n",
              "          if (!dataTable) return;\n",
              "\n",
              "          const docLinkHtml = 'Like what you see? Visit the ' +\n",
              "            '<a target=\"_blank\" href=https://colab.research.google.com/notebooks/data_table.ipynb>data table notebook</a>'\n",
              "            + ' to learn more about interactive tables.';\n",
              "          element.innerHTML = '';\n",
              "          dataTable['output_type'] = 'display_data';\n",
              "          await google.colab.output.renderOutput(dataTable, element);\n",
              "          const docLink = document.createElement('div');\n",
              "          docLink.innerHTML = docLinkHtml;\n",
              "          element.appendChild(docLink);\n",
              "        }\n",
              "      </script>\n",
              "    </div>\n",
              "  </div>\n"
            ]
          },
          "metadata": {},
          "execution_count": 3
        }
      ],
      "source": [
        "df.head()"
      ]
    },
    {
      "cell_type": "code",
      "execution_count": null,
      "metadata": {
        "colab": {
          "base_uri": "https://localhost:8080/"
        },
        "id": "_qNCfd73Jp7E",
        "outputId": "12919444-42ec-4a11-d4ba-54ecd4965cf3"
      },
      "outputs": [
        {
          "output_type": "execute_result",
          "data": {
            "text/plain": [
              "(4998, 32)"
            ]
          },
          "metadata": {},
          "execution_count": 4
        }
      ],
      "source": [
        "df.shape"
      ]
    },
    {
      "cell_type": "code",
      "execution_count": null,
      "metadata": {
        "colab": {
          "base_uri": "https://localhost:8080/",
          "height": 446
        },
        "id": "lMeTIbG3JmP6",
        "outputId": "fceef800-7e6c-4487-a1db-db391c9ed16c"
      },
      "outputs": [
        {
          "output_type": "execute_result",
          "data": {
            "text/plain": [
              "       Port Number  Received Packets  Received Bytes    Sent Bytes  \\\n",
              "count  4998.000000       4998.000000    4.998000e+03  4.998000e+03   \n",
              "mean      2.235094      83932.478191    4.721429e+07  4.743702e+07   \n",
              "std       1.062464     122394.118041    4.951127e+07  4.894604e+07   \n",
              "min       1.000000         10.000000    8.560000e+02  5.775000e+03   \n",
              "25%       1.000000        836.500000    8.643970e+06  6.548716e+06   \n",
              "50%       2.000000       3595.500000    2.559362e+07  2.977196e+07   \n",
              "75%       3.000000     178957.750000    7.572793e+07  7.609763e+07   \n",
              "max       4.000000     352772.000000    2.715916e+08  2.392430e+08   \n",
              "\n",
              "        Sent Packets  Port alive Duration (S)  Packets Rx Dropped  \\\n",
              "count    4998.000000              4998.000000              4998.0   \n",
              "mean   148407.440176              1377.489996                 0.0   \n",
              "std    149713.797741               984.424260                 0.0   \n",
              "min        42.000000                26.000000                 0.0   \n",
              "25%      1042.250000               241.000000                 0.0   \n",
              "50%    134206.500000              1385.000000                 0.0   \n",
              "75%    287707.500000              2237.000000                 0.0   \n",
              "max    421598.000000              3317.000000                 0.0   \n",
              "\n",
              "       Packets Tx Dropped  Packets Rx Errors  Packets Tx Errors  ...  \\\n",
              "count              4998.0             4998.0             4998.0  ...   \n",
              "mean                  0.0                0.0                0.0  ...   \n",
              "std                   0.0                0.0                0.0  ...   \n",
              "min                   0.0                0.0                0.0  ...   \n",
              "25%                   0.0                0.0                0.0  ...   \n",
              "50%                   0.0                0.0                0.0  ...   \n",
              "75%                   0.0                0.0                0.0  ...   \n",
              "max                   0.0                0.0                0.0  ...   \n",
              "\n",
              "       Unknown Load/Rate  Unknown Load/Latest  Latest bytes counter  is_valid  \\\n",
              "count       4.998000e+03         4.998000e+03          4.998000e+03    4998.0   \n",
              "mean        2.354032e+04         5.956710e+05          2.354032e+04       1.0   \n",
              "std         1.224342e+05         1.950752e+06          1.224342e+05       0.0   \n",
              "min        -6.303550e+05         0.000000e+00         -6.303550e+05       1.0   \n",
              "25%         0.000000e+00         0.000000e+00          0.000000e+00       1.0   \n",
              "50%         0.000000e+00         0.000000e+00          0.000000e+00       1.0   \n",
              "75%         0.000000e+00         0.000000e+00          0.000000e+00       1.0   \n",
              "max         1.746749e+06         1.891030e+07          1.746749e+06       1.0   \n",
              "\n",
              "       Table ID  Active Flow Entries  Packets Looked Up  Packets Matched  \\\n",
              "count    4998.0          4998.000000       4.998000e+03     4.998000e+03   \n",
              "mean        0.0            54.488796       4.113947e+05     4.112736e+05   \n",
              "std         0.0           617.386958       3.889002e+05     3.888962e+05   \n",
              "min         0.0             4.000000       1.050000e+02     5.000000e+01   \n",
              "25%         0.0             5.000000       6.826250e+03     6.661750e+03   \n",
              "50%         0.0             6.000000       5.122400e+05     5.121590e+05   \n",
              "75%         0.0             7.000000       6.659060e+05     6.657710e+05   \n",
              "max         0.0          9987.000000       1.012574e+06     1.012439e+06   \n",
              "\n",
              "       Max Size        Label  \n",
              "count    4998.0  4998.000000  \n",
              "mean       -1.0     1.157263  \n",
              "std         0.0     1.448080  \n",
              "min        -1.0     0.000000  \n",
              "25%        -1.0     0.000000  \n",
              "50%        -1.0     0.000000  \n",
              "75%        -1.0     2.000000  \n",
              "max        -1.0     5.000000  \n",
              "\n",
              "[8 rows x 32 columns]"
            ],
            "text/html": [
              "\n",
              "\n",
              "  <div id=\"df-744927a6-5675-401f-8a59-e58947b35e3a\">\n",
              "    <div class=\"colab-df-container\">\n",
              "      <div>\n",
              "<style scoped>\n",
              "    .dataframe tbody tr th:only-of-type {\n",
              "        vertical-align: middle;\n",
              "    }\n",
              "\n",
              "    .dataframe tbody tr th {\n",
              "        vertical-align: top;\n",
              "    }\n",
              "\n",
              "    .dataframe thead th {\n",
              "        text-align: right;\n",
              "    }\n",
              "</style>\n",
              "<table border=\"1\" class=\"dataframe\">\n",
              "  <thead>\n",
              "    <tr style=\"text-align: right;\">\n",
              "      <th></th>\n",
              "      <th>Port Number</th>\n",
              "      <th>Received Packets</th>\n",
              "      <th>Received Bytes</th>\n",
              "      <th>Sent Bytes</th>\n",
              "      <th>Sent Packets</th>\n",
              "      <th>Port alive Duration (S)</th>\n",
              "      <th>Packets Rx Dropped</th>\n",
              "      <th>Packets Tx Dropped</th>\n",
              "      <th>Packets Rx Errors</th>\n",
              "      <th>Packets Tx Errors</th>\n",
              "      <th>...</th>\n",
              "      <th>Unknown Load/Rate</th>\n",
              "      <th>Unknown Load/Latest</th>\n",
              "      <th>Latest bytes counter</th>\n",
              "      <th>is_valid</th>\n",
              "      <th>Table ID</th>\n",
              "      <th>Active Flow Entries</th>\n",
              "      <th>Packets Looked Up</th>\n",
              "      <th>Packets Matched</th>\n",
              "      <th>Max Size</th>\n",
              "      <th>Label</th>\n",
              "    </tr>\n",
              "  </thead>\n",
              "  <tbody>\n",
              "    <tr>\n",
              "      <th>count</th>\n",
              "      <td>4998.000000</td>\n",
              "      <td>4998.000000</td>\n",
              "      <td>4.998000e+03</td>\n",
              "      <td>4.998000e+03</td>\n",
              "      <td>4998.000000</td>\n",
              "      <td>4998.000000</td>\n",
              "      <td>4998.0</td>\n",
              "      <td>4998.0</td>\n",
              "      <td>4998.0</td>\n",
              "      <td>4998.0</td>\n",
              "      <td>...</td>\n",
              "      <td>4.998000e+03</td>\n",
              "      <td>4.998000e+03</td>\n",
              "      <td>4.998000e+03</td>\n",
              "      <td>4998.0</td>\n",
              "      <td>4998.0</td>\n",
              "      <td>4998.000000</td>\n",
              "      <td>4.998000e+03</td>\n",
              "      <td>4.998000e+03</td>\n",
              "      <td>4998.0</td>\n",
              "      <td>4998.000000</td>\n",
              "    </tr>\n",
              "    <tr>\n",
              "      <th>mean</th>\n",
              "      <td>2.235094</td>\n",
              "      <td>83932.478191</td>\n",
              "      <td>4.721429e+07</td>\n",
              "      <td>4.743702e+07</td>\n",
              "      <td>148407.440176</td>\n",
              "      <td>1377.489996</td>\n",
              "      <td>0.0</td>\n",
              "      <td>0.0</td>\n",
              "      <td>0.0</td>\n",
              "      <td>0.0</td>\n",
              "      <td>...</td>\n",
              "      <td>2.354032e+04</td>\n",
              "      <td>5.956710e+05</td>\n",
              "      <td>2.354032e+04</td>\n",
              "      <td>1.0</td>\n",
              "      <td>0.0</td>\n",
              "      <td>54.488796</td>\n",
              "      <td>4.113947e+05</td>\n",
              "      <td>4.112736e+05</td>\n",
              "      <td>-1.0</td>\n",
              "      <td>1.157263</td>\n",
              "    </tr>\n",
              "    <tr>\n",
              "      <th>std</th>\n",
              "      <td>1.062464</td>\n",
              "      <td>122394.118041</td>\n",
              "      <td>4.951127e+07</td>\n",
              "      <td>4.894604e+07</td>\n",
              "      <td>149713.797741</td>\n",
              "      <td>984.424260</td>\n",
              "      <td>0.0</td>\n",
              "      <td>0.0</td>\n",
              "      <td>0.0</td>\n",
              "      <td>0.0</td>\n",
              "      <td>...</td>\n",
              "      <td>1.224342e+05</td>\n",
              "      <td>1.950752e+06</td>\n",
              "      <td>1.224342e+05</td>\n",
              "      <td>0.0</td>\n",
              "      <td>0.0</td>\n",
              "      <td>617.386958</td>\n",
              "      <td>3.889002e+05</td>\n",
              "      <td>3.888962e+05</td>\n",
              "      <td>0.0</td>\n",
              "      <td>1.448080</td>\n",
              "    </tr>\n",
              "    <tr>\n",
              "      <th>min</th>\n",
              "      <td>1.000000</td>\n",
              "      <td>10.000000</td>\n",
              "      <td>8.560000e+02</td>\n",
              "      <td>5.775000e+03</td>\n",
              "      <td>42.000000</td>\n",
              "      <td>26.000000</td>\n",
              "      <td>0.0</td>\n",
              "      <td>0.0</td>\n",
              "      <td>0.0</td>\n",
              "      <td>0.0</td>\n",
              "      <td>...</td>\n",
              "      <td>-6.303550e+05</td>\n",
              "      <td>0.000000e+00</td>\n",
              "      <td>-6.303550e+05</td>\n",
              "      <td>1.0</td>\n",
              "      <td>0.0</td>\n",
              "      <td>4.000000</td>\n",
              "      <td>1.050000e+02</td>\n",
              "      <td>5.000000e+01</td>\n",
              "      <td>-1.0</td>\n",
              "      <td>0.000000</td>\n",
              "    </tr>\n",
              "    <tr>\n",
              "      <th>25%</th>\n",
              "      <td>1.000000</td>\n",
              "      <td>836.500000</td>\n",
              "      <td>8.643970e+06</td>\n",
              "      <td>6.548716e+06</td>\n",
              "      <td>1042.250000</td>\n",
              "      <td>241.000000</td>\n",
              "      <td>0.0</td>\n",
              "      <td>0.0</td>\n",
              "      <td>0.0</td>\n",
              "      <td>0.0</td>\n",
              "      <td>...</td>\n",
              "      <td>0.000000e+00</td>\n",
              "      <td>0.000000e+00</td>\n",
              "      <td>0.000000e+00</td>\n",
              "      <td>1.0</td>\n",
              "      <td>0.0</td>\n",
              "      <td>5.000000</td>\n",
              "      <td>6.826250e+03</td>\n",
              "      <td>6.661750e+03</td>\n",
              "      <td>-1.0</td>\n",
              "      <td>0.000000</td>\n",
              "    </tr>\n",
              "    <tr>\n",
              "      <th>50%</th>\n",
              "      <td>2.000000</td>\n",
              "      <td>3595.500000</td>\n",
              "      <td>2.559362e+07</td>\n",
              "      <td>2.977196e+07</td>\n",
              "      <td>134206.500000</td>\n",
              "      <td>1385.000000</td>\n",
              "      <td>0.0</td>\n",
              "      <td>0.0</td>\n",
              "      <td>0.0</td>\n",
              "      <td>0.0</td>\n",
              "      <td>...</td>\n",
              "      <td>0.000000e+00</td>\n",
              "      <td>0.000000e+00</td>\n",
              "      <td>0.000000e+00</td>\n",
              "      <td>1.0</td>\n",
              "      <td>0.0</td>\n",
              "      <td>6.000000</td>\n",
              "      <td>5.122400e+05</td>\n",
              "      <td>5.121590e+05</td>\n",
              "      <td>-1.0</td>\n",
              "      <td>0.000000</td>\n",
              "    </tr>\n",
              "    <tr>\n",
              "      <th>75%</th>\n",
              "      <td>3.000000</td>\n",
              "      <td>178957.750000</td>\n",
              "      <td>7.572793e+07</td>\n",
              "      <td>7.609763e+07</td>\n",
              "      <td>287707.500000</td>\n",
              "      <td>2237.000000</td>\n",
              "      <td>0.0</td>\n",
              "      <td>0.0</td>\n",
              "      <td>0.0</td>\n",
              "      <td>0.0</td>\n",
              "      <td>...</td>\n",
              "      <td>0.000000e+00</td>\n",
              "      <td>0.000000e+00</td>\n",
              "      <td>0.000000e+00</td>\n",
              "      <td>1.0</td>\n",
              "      <td>0.0</td>\n",
              "      <td>7.000000</td>\n",
              "      <td>6.659060e+05</td>\n",
              "      <td>6.657710e+05</td>\n",
              "      <td>-1.0</td>\n",
              "      <td>2.000000</td>\n",
              "    </tr>\n",
              "    <tr>\n",
              "      <th>max</th>\n",
              "      <td>4.000000</td>\n",
              "      <td>352772.000000</td>\n",
              "      <td>2.715916e+08</td>\n",
              "      <td>2.392430e+08</td>\n",
              "      <td>421598.000000</td>\n",
              "      <td>3317.000000</td>\n",
              "      <td>0.0</td>\n",
              "      <td>0.0</td>\n",
              "      <td>0.0</td>\n",
              "      <td>0.0</td>\n",
              "      <td>...</td>\n",
              "      <td>1.746749e+06</td>\n",
              "      <td>1.891030e+07</td>\n",
              "      <td>1.746749e+06</td>\n",
              "      <td>1.0</td>\n",
              "      <td>0.0</td>\n",
              "      <td>9987.000000</td>\n",
              "      <td>1.012574e+06</td>\n",
              "      <td>1.012439e+06</td>\n",
              "      <td>-1.0</td>\n",
              "      <td>5.000000</td>\n",
              "    </tr>\n",
              "  </tbody>\n",
              "</table>\n",
              "<p>8 rows × 32 columns</p>\n",
              "</div>\n",
              "      <button class=\"colab-df-convert\" onclick=\"convertToInteractive('df-744927a6-5675-401f-8a59-e58947b35e3a')\"\n",
              "              title=\"Convert this dataframe to an interactive table.\"\n",
              "              style=\"display:none;\">\n",
              "\n",
              "  <svg xmlns=\"http://www.w3.org/2000/svg\" height=\"24px\"viewBox=\"0 0 24 24\"\n",
              "       width=\"24px\">\n",
              "    <path d=\"M0 0h24v24H0V0z\" fill=\"none\"/>\n",
              "    <path d=\"M18.56 5.44l.94 2.06.94-2.06 2.06-.94-2.06-.94-.94-2.06-.94 2.06-2.06.94zm-11 1L8.5 8.5l.94-2.06 2.06-.94-2.06-.94L8.5 2.5l-.94 2.06-2.06.94zm10 10l.94 2.06.94-2.06 2.06-.94-2.06-.94-.94-2.06-.94 2.06-2.06.94z\"/><path d=\"M17.41 7.96l-1.37-1.37c-.4-.4-.92-.59-1.43-.59-.52 0-1.04.2-1.43.59L10.3 9.45l-7.72 7.72c-.78.78-.78 2.05 0 2.83L4 21.41c.39.39.9.59 1.41.59.51 0 1.02-.2 1.41-.59l7.78-7.78 2.81-2.81c.8-.78.8-2.07 0-2.86zM5.41 20L4 18.59l7.72-7.72 1.47 1.35L5.41 20z\"/>\n",
              "  </svg>\n",
              "      </button>\n",
              "\n",
              "\n",
              "\n",
              "    <div id=\"df-a64e25ec-a8c2-4b81-bfff-b8733910983f\">\n",
              "      <button class=\"colab-df-quickchart\" onclick=\"quickchart('df-a64e25ec-a8c2-4b81-bfff-b8733910983f')\"\n",
              "              title=\"Suggest charts.\"\n",
              "              style=\"display:none;\">\n",
              "\n",
              "<svg xmlns=\"http://www.w3.org/2000/svg\" height=\"24px\"viewBox=\"0 0 24 24\"\n",
              "     width=\"24px\">\n",
              "    <g>\n",
              "        <path d=\"M19 3H5c-1.1 0-2 .9-2 2v14c0 1.1.9 2 2 2h14c1.1 0 2-.9 2-2V5c0-1.1-.9-2-2-2zM9 17H7v-7h2v7zm4 0h-2V7h2v10zm4 0h-2v-4h2v4z\"/>\n",
              "    </g>\n",
              "</svg>\n",
              "      </button>\n",
              "    </div>\n",
              "\n",
              "<style>\n",
              "  .colab-df-quickchart {\n",
              "    background-color: #E8F0FE;\n",
              "    border: none;\n",
              "    border-radius: 50%;\n",
              "    cursor: pointer;\n",
              "    display: none;\n",
              "    fill: #1967D2;\n",
              "    height: 32px;\n",
              "    padding: 0 0 0 0;\n",
              "    width: 32px;\n",
              "  }\n",
              "\n",
              "  .colab-df-quickchart:hover {\n",
              "    background-color: #E2EBFA;\n",
              "    box-shadow: 0px 1px 2px rgba(60, 64, 67, 0.3), 0px 1px 3px 1px rgba(60, 64, 67, 0.15);\n",
              "    fill: #174EA6;\n",
              "  }\n",
              "\n",
              "  [theme=dark] .colab-df-quickchart {\n",
              "    background-color: #3B4455;\n",
              "    fill: #D2E3FC;\n",
              "  }\n",
              "\n",
              "  [theme=dark] .colab-df-quickchart:hover {\n",
              "    background-color: #434B5C;\n",
              "    box-shadow: 0px 1px 3px 1px rgba(0, 0, 0, 0.15);\n",
              "    filter: drop-shadow(0px 1px 2px rgba(0, 0, 0, 0.3));\n",
              "    fill: #FFFFFF;\n",
              "  }\n",
              "</style>\n",
              "\n",
              "    <script>\n",
              "      async function quickchart(key) {\n",
              "        const containerElement = document.querySelector('#' + key);\n",
              "        const charts = await google.colab.kernel.invokeFunction(\n",
              "            'suggestCharts', [key], {});\n",
              "      }\n",
              "    </script>\n",
              "\n",
              "      <script>\n",
              "\n",
              "function displayQuickchartButton(domScope) {\n",
              "  let quickchartButtonEl =\n",
              "    domScope.querySelector('#df-a64e25ec-a8c2-4b81-bfff-b8733910983f button.colab-df-quickchart');\n",
              "  quickchartButtonEl.style.display =\n",
              "    google.colab.kernel.accessAllowed ? 'block' : 'none';\n",
              "}\n",
              "\n",
              "        displayQuickchartButton(document);\n",
              "      </script>\n",
              "      <style>\n",
              "    .colab-df-container {\n",
              "      display:flex;\n",
              "      flex-wrap:wrap;\n",
              "      gap: 12px;\n",
              "    }\n",
              "\n",
              "    .colab-df-convert {\n",
              "      background-color: #E8F0FE;\n",
              "      border: none;\n",
              "      border-radius: 50%;\n",
              "      cursor: pointer;\n",
              "      display: none;\n",
              "      fill: #1967D2;\n",
              "      height: 32px;\n",
              "      padding: 0 0 0 0;\n",
              "      width: 32px;\n",
              "    }\n",
              "\n",
              "    .colab-df-convert:hover {\n",
              "      background-color: #E2EBFA;\n",
              "      box-shadow: 0px 1px 2px rgba(60, 64, 67, 0.3), 0px 1px 3px 1px rgba(60, 64, 67, 0.15);\n",
              "      fill: #174EA6;\n",
              "    }\n",
              "\n",
              "    [theme=dark] .colab-df-convert {\n",
              "      background-color: #3B4455;\n",
              "      fill: #D2E3FC;\n",
              "    }\n",
              "\n",
              "    [theme=dark] .colab-df-convert:hover {\n",
              "      background-color: #434B5C;\n",
              "      box-shadow: 0px 1px 3px 1px rgba(0, 0, 0, 0.15);\n",
              "      filter: drop-shadow(0px 1px 2px rgba(0, 0, 0, 0.3));\n",
              "      fill: #FFFFFF;\n",
              "    }\n",
              "  </style>\n",
              "\n",
              "      <script>\n",
              "        const buttonEl =\n",
              "          document.querySelector('#df-744927a6-5675-401f-8a59-e58947b35e3a button.colab-df-convert');\n",
              "        buttonEl.style.display =\n",
              "          google.colab.kernel.accessAllowed ? 'block' : 'none';\n",
              "\n",
              "        async function convertToInteractive(key) {\n",
              "          const element = document.querySelector('#df-744927a6-5675-401f-8a59-e58947b35e3a');\n",
              "          const dataTable =\n",
              "            await google.colab.kernel.invokeFunction('convertToInteractive',\n",
              "                                                     [key], {});\n",
              "          if (!dataTable) return;\n",
              "\n",
              "          const docLinkHtml = 'Like what you see? Visit the ' +\n",
              "            '<a target=\"_blank\" href=https://colab.research.google.com/notebooks/data_table.ipynb>data table notebook</a>'\n",
              "            + ' to learn more about interactive tables.';\n",
              "          element.innerHTML = '';\n",
              "          dataTable['output_type'] = 'display_data';\n",
              "          await google.colab.output.renderOutput(dataTable, element);\n",
              "          const docLink = document.createElement('div');\n",
              "          docLink.innerHTML = docLinkHtml;\n",
              "          element.appendChild(docLink);\n",
              "        }\n",
              "      </script>\n",
              "    </div>\n",
              "  </div>\n"
            ]
          },
          "metadata": {},
          "execution_count": 5
        }
      ],
      "source": [
        "df.describe()"
      ]
    },
    {
      "cell_type": "code",
      "execution_count": null,
      "metadata": {
        "colab": {
          "base_uri": "https://localhost:8080/"
        },
        "id": "XOuIjfVNJi8z",
        "outputId": "c3fc549f-7ac3-4b68-db7c-ec50c59579e4"
      },
      "outputs": [
        {
          "output_type": "stream",
          "name": "stdout",
          "text": [
            "<class 'pandas.core.frame.DataFrame'>\n",
            "RangeIndex: 4998 entries, 0 to 4997\n",
            "Data columns (total 32 columns):\n",
            " #   Column                         Non-Null Count  Dtype\n",
            "---  ------                         --------------  -----\n",
            " 0   Port Number                    4998 non-null   int64\n",
            " 1   Received Packets               4998 non-null   int64\n",
            " 2   Received Bytes                 4998 non-null   int64\n",
            " 3   Sent Bytes                     4998 non-null   int64\n",
            " 4   Sent Packets                   4998 non-null   int64\n",
            " 5   Port alive Duration (S)        4998 non-null   int64\n",
            " 6   Packets Rx Dropped             4998 non-null   int64\n",
            " 7   Packets Tx Dropped             4998 non-null   int64\n",
            " 8   Packets Rx Errors              4998 non-null   int64\n",
            " 9   Packets Tx Errors              4998 non-null   int64\n",
            " 10  Delta Received Packets         4998 non-null   int64\n",
            " 11  Delta Received Bytes           4998 non-null   int64\n",
            " 12  Delta Sent Bytes               4998 non-null   int64\n",
            " 13  Delta Sent Packets             4998 non-null   int64\n",
            " 14  Delta Port alive Duration (S)  4998 non-null   int64\n",
            " 15  Delta Packets Rx Dropped       4998 non-null   int64\n",
            " 16   Delta Packets Tx Dropped      4998 non-null   int64\n",
            " 17  Delta Packets Rx Errors        4998 non-null   int64\n",
            " 18  Delta Packets Tx Errors        4998 non-null   int64\n",
            " 19  Connection Point               4998 non-null   int64\n",
            " 20  Total Load/Rate                4998 non-null   int64\n",
            " 21  Total Load/Latest              4998 non-null   int64\n",
            " 22  Unknown Load/Rate              4998 non-null   int64\n",
            " 23  Unknown Load/Latest            4998 non-null   int64\n",
            " 24  Latest bytes counter           4998 non-null   int64\n",
            " 25  is_valid                       4998 non-null   int64\n",
            " 26  Table ID                       4998 non-null   int64\n",
            " 27  Active Flow Entries            4998 non-null   int64\n",
            " 28  Packets Looked Up              4998 non-null   int64\n",
            " 29  Packets Matched                4998 non-null   int64\n",
            " 30  Max Size                       4998 non-null   int64\n",
            " 31  Label                          4998 non-null   int64\n",
            "dtypes: int64(32)\n",
            "memory usage: 1.2 MB\n"
          ]
        }
      ],
      "source": [
        "df.info()"
      ]
    },
    {
      "cell_type": "code",
      "source": [
        "df['Label'].value_counts().plot(kind='bar')\n",
        "plt.xlabel(\"Label\")\n",
        "plt.ylabel(\"Count\")\n",
        "plt.title(\"Distribution of Target Variable - Intrusion Prediction\")"
      ],
      "metadata": {
        "colab": {
          "base_uri": "https://localhost:8080/",
          "height": 484
        },
        "id": "A2e8SftbTCbN",
        "outputId": "f2c0701a-6c06-4c05-ee55-3b2ebbb64c8b"
      },
      "execution_count": null,
      "outputs": [
        {
          "output_type": "execute_result",
          "data": {
            "text/plain": [
              "Text(0.5, 1.0, 'Distribution of Target Variable - Intrusion Prediction')"
            ]
          },
          "metadata": {},
          "execution_count": 7
        },
        {
          "output_type": "display_data",
          "data": {
            "text/plain": [
              "<Figure size 640x480 with 1 Axes>"
            ],
            "image/png": "[encoded data removed]"
          },
          "metadata": {}
        }
      ]
    },
    {
      "cell_type": "code",
      "source": [
        "sns.countplot(data=df,x='Port Number',hue='Label')\n",
        "plt.xlabel(\"Label\")\n",
        "plt.ylabel(\"Port Number\")\n",
        "plt.title(\"Distribution of Label Vs Port Number - Intrusion Prediction\")\n",
        "plt.show()"
      ],
      "metadata": {
        "colab": {
          "base_uri": "https://localhost:8080/",
          "height": 472
        },
        "id": "0zspMfNMVHrr",
        "outputId": "96fea46d-65b5-44ec-be37-f5d4e2705f4b"
      },
      "execution_count": null,
      "outputs": [
        {
          "output_type": "display_data",
          "data": {
            "text/plain": [
              "<Figure size 640x480 with 1 Axes>"
            ],
            "image/png": "[encoded data removed]"
          },
          "metadata": {}
        }
      ]
    },
    {
      "cell_type": "code",
      "source": [
        "sns.countplot(data=df,x='Table ID',hue='Label')\n",
        "plt.xlabel(\"Label\")\n",
        "plt.ylabel(\"Table ID\")\n",
        "plt.title(\"Distribution of Label Vs Table ID - Intrusion Prediction\")\n",
        "plt.show()"
      ],
      "metadata": {
        "colab": {
          "base_uri": "https://localhost:8080/",
          "height": 472
        },
        "id": "gOM6uFwFXKPt",
        "outputId": "6d7c9e63-2fb6-49de-fe42-8b970c23426d"
      },
      "execution_count": null,
      "outputs": [
        {
          "output_type": "display_data",
          "data": {
            "text/plain": [
              "<Figure size 640x480 with 1 Axes>"
            ],
            "image/png": "[encoded data removed]"
          },
          "metadata": {}
        }
      ]
    },
    {
      "cell_type": "code",
      "source": [
        "fig, ax = plt.subplots(2, 3, sharex='col', sharey='row')\n",
        "\n",
        "m=0\n",
        "for i in range(2):\n",
        "    for j in range(3):\n",
        "\n",
        "        df.hist(column = df.columns[m], bins = 12, ax=ax[i,j], figsize=(20, 18))\n",
        "        m+=1"
      ],
      "metadata": {
        "colab": {
          "base_uri": "https://localhost:8080/",
          "height": 470
        },
        "id": "1q9CpqN4Yu6J",
        "outputId": "c3f0071f-0fb5-44e8-8dc0-eff7bca18c10"
      },
      "execution_count": null,
      "outputs": [
        {
          "output_type": "display_data",
          "data": {
            "text/plain": [
              "<Figure size 640x480 with 6 Axes>"
            ],
            "image/png": "[encoded data removed]"
          },
          "metadata": {}
        }
      ]
    },
    {
      "cell_type": "markdown",
      "metadata": {
        "id": "kvR6AlWqzFwD"
      },
      "source": [
        "# Define Independent and Dependent features"
      ]
    },
    {
      "cell_type": "code",
      "execution_count": null,
      "metadata": {
        "id": "w7mNrWppzfW4"
      },
      "outputs": [],
      "source": [
        "X = df.drop('Label', axis = 1)\n",
        "y = df['Label']"
      ]
    },
    {
      "cell_type": "markdown",
      "metadata": {
        "id": "CwmlFaektsCL"
      },
      "source": [
        "# Train and Test Split\n",
        "\n"
      ]
    },
    {
      "cell_type": "code",
      "execution_count": null,
      "metadata": {
        "id": "IgYLbVk_Qcqa"
      },
      "outputs": [],
      "source": [
        "X_train, X_test, y_train, y_test = train_test_split(X, y, test_size=0.3)"
      ]
    },
    {
      "cell_type": "code",
      "execution_count": null,
      "metadata": {
        "colab": {
          "base_uri": "https://localhost:8080/"
        },
        "id": "OgwFJNj4GS6G",
        "outputId": "8ce6e3c3-1d50-476f-af8c-93ebe7864cec"
      },
      "outputs": [
        {
          "output_type": "execute_result",
          "data": {
            "text/plain": [
              "(3498, 31)"
            ]
          },
          "metadata": {},
          "execution_count": 13
        }
      ],
      "source": [
        "X_train.shape"
      ]
    },
    {
      "cell_type": "code",
      "execution_count": null,
      "metadata": {
        "id": "C_9z9_kZs0Hz"
      },
      "outputs": [],
      "source": [
        "scaler = StandardScaler().fit(X_train)\n",
        "X_train = scaler.transform(X_train)\n",
        "X_test = scaler.transform(X_test)"
      ]
    },
    {
      "cell_type": "markdown",
      "metadata": {
        "id": "Fr16AzpqtECh"
      },
      "source": [
        "#Model Building\n"
      ]
    },
    {
      "cell_type": "markdown",
      "metadata": {
        "id": "IVVBMkkUunvk"
      },
      "source": [
        "### Train the model"
      ]
    },
    {
      "cell_type": "code",
      "execution_count": null,
      "metadata": {
        "id": "WsdPFU6iuZj9"
      },
      "outputs": [],
      "source": [
        "model = LogisticRegression()"
      ]
    },
    {
      "cell_type": "code",
      "execution_count": null,
      "metadata": {
        "colab": {
          "base_uri": "https://localhost:8080/",
          "height": 234
        },
        "id": "DFa09dDgU5_E",
        "outputId": "80dba801-c914-4131-c472-a3091fe28e9f"
      },
      "outputs": [
        {
          "output_type": "stream",
          "name": "stderr",
          "text": [
            "/usr/local/lib/python3.10/dist-packages/sklearn/linear_model/_logistic.py:458: ConvergenceWarning: lbfgs failed to converge (status=1):\n",
            "STOP: TOTAL NO. of ITERATIONS REACHED LIMIT.\n",
            "\n",
            "Increase the number of iterations (max_iter) or scale the data as shown in:\n",
            "    https://scikit-learn.org/stable/modules/preprocessing.html\n",
            "Please also refer to the documentation for alternative solver options:\n",
            "    https://scikit-learn.org/stable/modules/linear_model.html#logistic-regression\n",
            "  n_iter_i = _check_optimize_result(\n"
          ]
        },
        {
          "output_type": "execute_result",
          "data": {
            "text/plain": [
              "LogisticRegression()"
            ],
            "text/html": [
              "<style>#sk-container-id-1 {color: black;background-color: white;}#sk-container-id-1 pre{padding: 0;}#sk-container-id-1 div.sk-toggleable {background-color: white;}#sk-container-id-1 label.sk-toggleable__label {cursor: pointer;display: block;width: 100%;margin-bottom: 0;padding: 0.3em;box-sizing: border-box;text-align: center;}#sk-container-id-1 label.sk-toggleable__label-arrow:before {content: \"▸\";float: left;margin-right: 0.25em;color: #696969;}#sk-container-id-1 label.sk-toggleable__label-arrow:hover:before {color: black;}#sk-container-id-1 div.sk-estimator:hover label.sk-toggleable__label-arrow:before {color: black;}#sk-container-id-1 div.sk-toggleable__content {max-height: 0;max-width: 0;overflow: hidden;text-align: left;background-color: #f0f8ff;}#sk-container-id-1 div.sk-toggleable__content pre {margin: 0.2em;color: black;border-radius: 0.25em;background-color: #f0f8ff;}#sk-container-id-1 input.sk-toggleable__control:checked~div.sk-toggleable__content {max-height: 200px;max-width: 100%;overflow: auto;}#sk-container-id-1 input.sk-toggleable__control:checked~label.sk-toggleable__label-arrow:before {content: \"▾\";}#sk-container-id-1 div.sk-estimator input.sk-toggleable__control:checked~label.sk-toggleable__label {background-color: #d4ebff;}#sk-container-id-1 div.sk-label input.sk-toggleable__control:checked~label.sk-toggleable__label {background-color: #d4ebff;}#sk-container-id-1 input.sk-hidden--visually {border: 0;clip: rect(1px 1px 1px 1px);clip: rect(1px, 1px, 1px, 1px);height: 1px;margin: -1px;overflow: hidden;padding: 0;position: absolute;width: 1px;}#sk-container-id-1 div.sk-estimator {font-family: monospace;background-color: #f0f8ff;border: 1px dotted black;border-radius: 0.25em;box-sizing: border-box;margin-bottom: 0.5em;}#sk-container-id-1 div.sk-estimator:hover {background-color: #d4ebff;}#sk-container-id-1 div.sk-parallel-item::after {content: \"\";width: 100%;border-bottom: 1px solid gray;flex-grow: 1;}#sk-container-id-1 div.sk-label:hover label.sk-toggleable__label {background-color: #d4ebff;}#sk-container-id-1 div.sk-serial::before {content: \"\";position: absolute;border-left: 1px solid gray;box-sizing: border-box;top: 0;bottom: 0;left: 50%;z-index: 0;}#sk-container-id-1 div.sk-serial {display: flex;flex-direction: column;align-items: center;background-color: white;padding-right: 0.2em;padding-left: 0.2em;position: relative;}#sk-container-id-1 div.sk-item {position: relative;z-index: 1;}#sk-container-id-1 div.sk-parallel {display: flex;align-items: stretch;justify-content: center;background-color: white;position: relative;}#sk-container-id-1 div.sk-item::before, #sk-container-id-1 div.sk-parallel-item::before {content: \"\";position: absolute;border-left: 1px solid gray;box-sizing: border-box;top: 0;bottom: 0;left: 50%;z-index: -1;}#sk-container-id-1 div.sk-parallel-item {display: flex;flex-direction: column;z-index: 1;position: relative;background-color: white;}#sk-container-id-1 div.sk-parallel-item:first-child::after {align-self: flex-end;width: 50%;}#sk-container-id-1 div.sk-parallel-item:last-child::after {align-self: flex-start;width: 50%;}#sk-container-id-1 div.sk-parallel-item:only-child::after {width: 0;}#sk-container-id-1 div.sk-dashed-wrapped {border: 1px dashed gray;margin: 0 0.4em 0.5em 0.4em;box-sizing: border-box;padding-bottom: 0.4em;background-color: white;}#sk-container-id-1 div.sk-label label {font-family: monospace;font-weight: bold;display: inline-block;line-height: 1.2em;}#sk-container-id-1 div.sk-label-container {text-align: center;}#sk-container-id-1 div.sk-container {/* jupyter's `normalize.less` sets `[hidden] { display: none; }` but bootstrap.min.css set `[hidden] { display: none !important; }` so we also need the `!important` here to be able to override the default hidden behavior on the sphinx rendered scikit-learn.org. See: https://github.com/scikit-learn/scikit-learn/issues/21755 */display: inline-block !important;position: relative;}#sk-container-id-1 div.sk-text-repr-fallback {display: none;}</style><div id=\"sk-container-id-1\" class=\"sk-top-container\"><div class=\"sk-text-repr-fallback\"><pre>LogisticRegression()</pre><b>In a Jupyter environment, please rerun this cell to show the HTML representation or trust the notebook. <br />On GitHub, the HTML representation is unable to render, please try loading this page with nbviewer.org.</b></div><div class=\"sk-container\" hidden><div class=\"sk-item\"><div class=\"sk-estimator sk-toggleable\"><input class=\"sk-toggleable__control sk-hidden--visually\" id=\"sk-estimator-id-1\" type=\"checkbox\" checked><label for=\"sk-estimator-id-1\" class=\"sk-toggleable__label sk-toggleable__label-arrow\">LogisticRegression</label><div class=\"sk-toggleable__content\"><pre>LogisticRegression()</pre></div></div></div></div></div>"
            ]
          },
          "metadata": {},
          "execution_count": 16
        }
      ],
      "source": [
        "model.fit(X_train,y_train)"
      ]
    },
    {
      "cell_type": "code",
      "execution_count": null,
      "metadata": {
        "colab": {
          "base_uri": "https://localhost:8080/"
        },
        "id": "SMwq5AEL1dCw",
        "outputId": "30d8a01e-65bf-46c6-ec67-850b5aedeade"
      },
      "outputs": [
        {
          "output_type": "stream",
          "name": "stdout",
          "text": [
            "(3498, 31) (3498,)\n"
          ]
        }
      ],
      "source": [
        "print(X_train.shape,y_train.shape)"
      ]
    },
    {
      "cell_type": "markdown",
      "metadata": {
        "id": "rd2dWbYe2oLa"
      },
      "source": [
        "# Model Prediction"
      ]
    },
    {
      "cell_type": "code",
      "execution_count": null,
      "metadata": {
        "id": "KgRfIAJP9RNZ"
      },
      "outputs": [],
      "source": [
        "pred = model.predict(X_test)"
      ]
    },
    {
      "cell_type": "markdown",
      "metadata": {
        "id": "GInO1P5u9rbx"
      },
      "source": [
        "## Model Evaluation\n"
      ]
    },
    {
      "cell_type": "code",
      "execution_count": null,
      "metadata": {
        "colab": {
          "base_uri": "https://localhost:8080/"
        },
        "id": "iA2sc8E4vDlz",
        "outputId": "747a45f8-a860-4c43-cb1c-5a7751f2e561"
      },
      "outputs": [
        {
          "output_type": "stream",
          "name": "stdout",
          "text": [
            "Accuracy score 0.8873333333333333\n",
            "Recall score 0.8873333333333333\n",
            "Precision score 0.9134745544943556\n",
            "F1 Score score 0.8887152909782244\n"
          ]
        }
      ],
      "source": [
        "print('Accuracy score',accuracy_score(pred,y_test))\n",
        "print('Recall score',recall_score(pred,y_test,average='weighted'))\n",
        "print('Precision score',precision_score(pred,y_test,average='weighted'))\n",
        "print('F1 Score score',f1_score(pred,y_test,average='weighted'))"
      ]
    },
    {
      "cell_type": "markdown",
      "metadata": {
        "id": "Yyxr6KaSwfmI"
      },
      "source": [
        "## Load Test data"
      ]
    },
    {
      "cell_type": "code",
      "execution_count": null,
      "metadata": {
        "id": "LjRc151Cwa1p"
      },
      "outputs": [],
      "source": [
        "test_data = pd.read_csv('test_dataset.csv')"
      ]
    },
    {
      "cell_type": "code",
      "execution_count": null,
      "metadata": {
        "colab": {
          "base_uri": "https://localhost:8080/",
          "height": 352
        },
        "id": "5zF7me-ewpWu",
        "outputId": "5ab97002-9535-45f1-e95e-2835cbeb3338"
      },
      "outputs": [
        {
          "output_type": "execute_result",
          "data": {
            "text/plain": [
              "   Port Number  Received Packets  Received Bytes  Sent Bytes  Sent Packets  \\\n",
              "0            2              1516        37852942    35609292        246092   \n",
              "1            3            182335       191155854   232913950        292956   \n",
              "2            1            180594        58085529    12697283        300026   \n",
              "3            2               280         6317648       14403           109   \n",
              "4            3            173724        32530097    19003413        151576   \n",
              "\n",
              "   Port alive Duration (S)  Packets Rx Dropped  Packets Tx Dropped  \\\n",
              "0                     1400                   0                   0   \n",
              "1                     2927                   0                   0   \n",
              "2                     1750                   0                   0   \n",
              "3                      111                   0                   0   \n",
              "4                      935                   0                   0   \n",
              "\n",
              "   Packets Rx Errors  Packets Tx Errors  ...  Total Load/Latest  \\\n",
              "0                  0                  0  ...                  0   \n",
              "1                  0                  0  ...            6305279   \n",
              "2                  0                  0  ...                  0   \n",
              "3                  0                  0  ...                  0   \n",
              "4                  0                  0  ...                  0   \n",
              "\n",
              "   Unknown Load/Rate  Unknown Load/Latest  Latest bytes counter  is_valid  \\\n",
              "0                  0                    0                     0         1   \n",
              "1                179              6305279                   179         1   \n",
              "2                  0                    0                     0         1   \n",
              "3                  0                    0                     0         1   \n",
              "4                  0                    0                     0         1   \n",
              "\n",
              "   Table ID  Active Flow Entries  Packets Looked Up  Packets Matched  Max Size  \n",
              "0         0                    6             649148           649024        -1  \n",
              "1         0                    8             674941           674804        -1  \n",
              "2         0                    6             957699           957567        -1  \n",
              "3         0                    6              52073            51982        -1  \n",
              "4         0                    4             643392           643276        -1  \n",
              "\n",
              "[5 rows x 31 columns]"
            ],
            "text/html": [
              "\n",
              "\n",
              "  <div id=\"df-f09c90c4-72cd-4f07-82ca-d9fe1c891f23\">\n",
              "    <div class=\"colab-df-container\">\n",
              "      <div>\n",
              "<style scoped>\n",
              "    .dataframe tbody tr th:only-of-type {\n",
              "        vertical-align: middle;\n",
              "    }\n",
              "\n",
              "    .dataframe tbody tr th {\n",
              "        vertical-align: top;\n",
              "    }\n",
              "\n",
              "    .dataframe thead th {\n",
              "        text-align: right;\n",
              "    }\n",
              "</style>\n",
              "<table border=\"1\" class=\"dataframe\">\n",
              "  <thead>\n",
              "    <tr style=\"text-align: right;\">\n",
              "      <th></th>\n",
              "      <th>Port Number</th>\n",
              "      <th>Received Packets</th>\n",
              "      <th>Received Bytes</th>\n",
              "      <th>Sent Bytes</th>\n",
              "      <th>Sent Packets</th>\n",
              "      <th>Port alive Duration (S)</th>\n",
              "      <th>Packets Rx Dropped</th>\n",
              "      <th>Packets Tx Dropped</th>\n",
              "      <th>Packets Rx Errors</th>\n",
              "      <th>Packets Tx Errors</th>\n",
              "      <th>...</th>\n",
              "      <th>Total Load/Latest</th>\n",
              "      <th>Unknown Load/Rate</th>\n",
              "      <th>Unknown Load/Latest</th>\n",
              "      <th>Latest bytes counter</th>\n",
              "      <th>is_valid</th>\n",
              "      <th>Table ID</th>\n",
              "      <th>Active Flow Entries</th>\n",
              "      <th>Packets Looked Up</th>\n",
              "      <th>Packets Matched</th>\n",
              "      <th>Max Size</th>\n",
              "    </tr>\n",
              "  </thead>\n",
              "  <tbody>\n",
              "    <tr>\n",
              "      <th>0</th>\n",
              "      <td>2</td>\n",
              "      <td>1516</td>\n",
              "      <td>37852942</td>\n",
              "      <td>35609292</td>\n",
              "      <td>246092</td>\n",
              "      <td>1400</td>\n",
              "      <td>0</td>\n",
              "      <td>0</td>\n",
              "      <td>0</td>\n",
              "      <td>0</td>\n",
              "      <td>...</td>\n",
              "      <td>0</td>\n",
              "      <td>0</td>\n",
              "      <td>0</td>\n",
              "      <td>0</td>\n",
              "      <td>1</td>\n",
              "      <td>0</td>\n",
              "      <td>6</td>\n",
              "      <td>649148</td>\n",
              "      <td>649024</td>\n",
              "      <td>-1</td>\n",
              "    </tr>\n",
              "    <tr>\n",
              "      <th>1</th>\n",
              "      <td>3</td>\n",
              "      <td>182335</td>\n",
              "      <td>191155854</td>\n",
              "      <td>232913950</td>\n",
              "      <td>292956</td>\n",
              "      <td>2927</td>\n",
              "      <td>0</td>\n",
              "      <td>0</td>\n",
              "      <td>0</td>\n",
              "      <td>0</td>\n",
              "      <td>...</td>\n",
              "      <td>6305279</td>\n",
              "      <td>179</td>\n",
              "      <td>6305279</td>\n",
              "      <td>179</td>\n",
              "      <td>1</td>\n",
              "      <td>0</td>\n",
              "      <td>8</td>\n",
              "      <td>674941</td>\n",
              "      <td>674804</td>\n",
              "      <td>-1</td>\n",
              "    </tr>\n",
              "    <tr>\n",
              "      <th>2</th>\n",
              "      <td>1</td>\n",
              "      <td>180594</td>\n",
              "      <td>58085529</td>\n",
              "      <td>12697283</td>\n",
              "      <td>300026</td>\n",
              "      <td>1750</td>\n",
              "      <td>0</td>\n",
              "      <td>0</td>\n",
              "      <td>0</td>\n",
              "      <td>0</td>\n",
              "      <td>...</td>\n",
              "      <td>0</td>\n",
              "      <td>0</td>\n",
              "      <td>0</td>\n",
              "      <td>0</td>\n",
              "      <td>1</td>\n",
              "      <td>0</td>\n",
              "      <td>6</td>\n",
              "      <td>957699</td>\n",
              "      <td>957567</td>\n",
              "      <td>-1</td>\n",
              "    </tr>\n",
              "    <tr>\n",
              "      <th>3</th>\n",
              "      <td>2</td>\n",
              "      <td>280</td>\n",
              "      <td>6317648</td>\n",
              "      <td>14403</td>\n",
              "      <td>109</td>\n",
              "      <td>111</td>\n",
              "      <td>0</td>\n",
              "      <td>0</td>\n",
              "      <td>0</td>\n",
              "      <td>0</td>\n",
              "      <td>...</td>\n",
              "      <td>0</td>\n",
              "      <td>0</td>\n",
              "      <td>0</td>\n",
              "      <td>0</td>\n",
              "      <td>1</td>\n",
              "      <td>0</td>\n",
              "      <td>6</td>\n",
              "      <td>52073</td>\n",
              "      <td>51982</td>\n",
              "      <td>-1</td>\n",
              "    </tr>\n",
              "    <tr>\n",
              "      <th>4</th>\n",
              "      <td>3</td>\n",
              "      <td>173724</td>\n",
              "      <td>32530097</td>\n",
              "      <td>19003413</td>\n",
              "      <td>151576</td>\n",
              "      <td>935</td>\n",
              "      <td>0</td>\n",
              "      <td>0</td>\n",
              "      <td>0</td>\n",
              "      <td>0</td>\n",
              "      <td>...</td>\n",
              "      <td>0</td>\n",
              "      <td>0</td>\n",
              "      <td>0</td>\n",
              "      <td>0</td>\n",
              "      <td>1</td>\n",
              "      <td>0</td>\n",
              "      <td>4</td>\n",
              "      <td>643392</td>\n",
              "      <td>643276</td>\n",
              "      <td>-1</td>\n",
              "    </tr>\n",
              "  </tbody>\n",
              "</table>\n",
              "<p>5 rows × 31 columns</p>\n",
              "</div>\n",
              "      <button class=\"colab-df-convert\" onclick=\"convertToInteractive('df-f09c90c4-72cd-4f07-82ca-d9fe1c891f23')\"\n",
              "              title=\"Convert this dataframe to an interactive table.\"\n",
              "              style=\"display:none;\">\n",
              "\n",
              "  <svg xmlns=\"http://www.w3.org/2000/svg\" height=\"24px\"viewBox=\"0 0 24 24\"\n",
              "       width=\"24px\">\n",
              "    <path d=\"M0 0h24v24H0V0z\" fill=\"none\"/>\n",
              "    <path d=\"M18.56 5.44l.94 2.06.94-2.06 2.06-.94-2.06-.94-.94-2.06-.94 2.06-2.06.94zm-11 1L8.5 8.5l.94-2.06 2.06-.94-2.06-.94L8.5 2.5l-.94 2.06-2.06.94zm10 10l.94 2.06.94-2.06 2.06-.94-2.06-.94-.94-2.06-.94 2.06-2.06.94z\"/><path d=\"M17.41 7.96l-1.37-1.37c-.4-.4-.92-.59-1.43-.59-.52 0-1.04.2-1.43.59L10.3 9.45l-7.72 7.72c-.78.78-.78 2.05 0 2.83L4 21.41c.39.39.9.59 1.41.59.51 0 1.02-.2 1.41-.59l7.78-7.78 2.81-2.81c.8-.78.8-2.07 0-2.86zM5.41 20L4 18.59l7.72-7.72 1.47 1.35L5.41 20z\"/>\n",
              "  </svg>\n",
              "      </button>\n",
              "\n",
              "\n",
              "\n",
              "    <div id=\"df-c673d1ff-43f5-419d-aa57-3f9faabc1bed\">\n",
              "      <button class=\"colab-df-quickchart\" onclick=\"quickchart('df-c673d1ff-43f5-419d-aa57-3f9faabc1bed')\"\n",
              "              title=\"Suggest charts.\"\n",
              "              style=\"display:none;\">\n",
              "\n",
              "<svg xmlns=\"http://www.w3.org/2000/svg\" height=\"24px\"viewBox=\"0 0 24 24\"\n",
              "     width=\"24px\">\n",
              "    <g>\n",
              "        <path d=\"M19 3H5c-1.1 0-2 .9-2 2v14c0 1.1.9 2 2 2h14c1.1 0 2-.9 2-2V5c0-1.1-.9-2-2-2zM9 17H7v-7h2v7zm4 0h-2V7h2v10zm4 0h-2v-4h2v4z\"/>\n",
              "    </g>\n",
              "</svg>\n",
              "      </button>\n",
              "    </div>\n",
              "\n",
              "<style>\n",
              "  .colab-df-quickchart {\n",
              "    background-color: #E8F0FE;\n",
              "    border: none;\n",
              "    border-radius: 50%;\n",
              "    cursor: pointer;\n",
              "    display: none;\n",
              "    fill: #1967D2;\n",
              "    height: 32px;\n",
              "    padding: 0 0 0 0;\n",
              "    width: 32px;\n",
              "  }\n",
              "\n",
              "  .colab-df-quickchart:hover {\n",
              "    background-color: #E2EBFA;\n",
              "    box-shadow: 0px 1px 2px rgba(60, 64, 67, 0.3), 0px 1px 3px 1px rgba(60, 64, 67, 0.15);\n",
              "    fill: #174EA6;\n",
              "  }\n",
              "\n",
              "  [theme=dark] .colab-df-quickchart {\n",
              "    background-color: #3B4455;\n",
              "    fill: #D2E3FC;\n",
              "  }\n",
              "\n",
              "  [theme=dark] .colab-df-quickchart:hover {\n",
              "    background-color: #434B5C;\n",
              "    box-shadow: 0px 1px 3px 1px rgba(0, 0, 0, 0.15);\n",
              "    filter: drop-shadow(0px 1px 2px rgba(0, 0, 0, 0.3));\n",
              "    fill: #FFFFFF;\n",
              "  }\n",
              "</style>\n",
              "\n",
              "    <script>\n",
              "      async function quickchart(key) {\n",
              "        const containerElement = document.querySelector('#' + key);\n",
              "        const charts = await google.colab.kernel.invokeFunction(\n",
              "            'suggestCharts', [key], {});\n",
              "      }\n",
              "    </script>\n",
              "\n",
              "      <script>\n",
              "\n",
              "function displayQuickchartButton(domScope) {\n",
              "  let quickchartButtonEl =\n",
              "    domScope.querySelector('#df-c673d1ff-43f5-419d-aa57-3f9faabc1bed button.colab-df-quickchart');\n",
              "  quickchartButtonEl.style.display =\n",
              "    google.colab.kernel.accessAllowed ? 'block' : 'none';\n",
              "}\n",
              "\n",
              "        displayQuickchartButton(document);\n",
              "      </script>\n",
              "      <style>\n",
              "    .colab-df-container {\n",
              "      display:flex;\n",
              "      flex-wrap:wrap;\n",
              "      gap: 12px;\n",
              "    }\n",
              "\n",
              "    .colab-df-convert {\n",
              "      background-color: #E8F0FE;\n",
              "      border: none;\n",
              "      border-radius: 50%;\n",
              "      cursor: pointer;\n",
              "      display: none;\n",
              "      fill: #1967D2;\n",
              "      height: 32px;\n",
              "      padding: 0 0 0 0;\n",
              "      width: 32px;\n",
              "    }\n",
              "\n",
              "    .colab-df-convert:hover {\n",
              "      background-color: #E2EBFA;\n",
              "      box-shadow: 0px 1px 2px rgba(60, 64, 67, 0.3), 0px 1px 3px 1px rgba(60, 64, 67, 0.15);\n",
              "      fill: #174EA6;\n",
              "    }\n",
              "\n",
              "    [theme=dark] .colab-df-convert {\n",
              "      background-color: #3B4455;\n",
              "      fill: #D2E3FC;\n",
              "    }\n",
              "\n",
              "    [theme=dark] .colab-df-convert:hover {\n",
              "      background-color: #434B5C;\n",
              "      box-shadow: 0px 1px 3px 1px rgba(0, 0, 0, 0.15);\n",
              "      filter: drop-shadow(0px 1px 2px rgba(0, 0, 0, 0.3));\n",
              "      fill: #FFFFFF;\n",
              "    }\n",
              "  </style>\n",
              "\n",
              "      <script>\n",
              "        const buttonEl =\n",
              "          document.querySelector('#df-f09c90c4-72cd-4f07-82ca-d9fe1c891f23 button.colab-df-convert');\n",
              "        buttonEl.style.display =\n",
              "          google.colab.kernel.accessAllowed ? 'block' : 'none';\n",
              "\n",
              "        async function convertToInteractive(key) {\n",
              "          const element = document.querySelector('#df-f09c90c4-72cd-4f07-82ca-d9fe1c891f23');\n",
              "          const dataTable =\n",
              "            await google.colab.kernel.invokeFunction('convertToInteractive',\n",
              "                                                     [key], {});\n",
              "          if (!dataTable) return;\n",
              "\n",
              "          const docLinkHtml = 'Like what you see? Visit the ' +\n",
              "            '<a target=\"_blank\" href=https://colab.research.google.com/notebooks/data_table.ipynb>data table notebook</a>'\n",
              "            + ' to learn more about interactive tables.';\n",
              "          element.innerHTML = '';\n",
              "          dataTable['output_type'] = 'display_data';\n",
              "          await google.colab.output.renderOutput(dataTable, element);\n",
              "          const docLink = document.createElement('div');\n",
              "          docLink.innerHTML = docLinkHtml;\n",
              "          element.appendChild(docLink);\n",
              "        }\n",
              "      </script>\n",
              "    </div>\n",
              "  </div>\n"
            ]
          },
          "metadata": {},
          "execution_count": 21
        }
      ],
      "source": [
        "test_data.head()"
      ]
    },
    {
      "cell_type": "code",
      "source": [
        "# How to Import the DecisionTreeClassifer Class\n",
        "from sklearn.tree import DecisionTreeClassifier\n",
        "DecisionTreeClassifier(\n",
        "    criterion='gini',\n",
        "    splitter='best',\n",
        "    max_depth=None,\n",
        "    min_samples_split=2,\n",
        "    min_samples_leaf=1,\n",
        "    min_weight_fraction_leaf=0.0,\n",
        "    max_features=None,\n",
        "    random_state=None,\n",
        "    max_leaf_nodes=None,\n",
        "    min_impurity_decrease=0.0,\n",
        "    class_weight=None,\n",
        "    ccp_alpha=0.0\n",
        ")\n",
        "model1 = DecisionTreeClassifier()\n",
        "model1.fit(X_train,y_train)\n",
        "pred1 = model1.predict(X_test)\n",
        "print('Accuracy score for model 1',accuracy_score(pred1,y_test))\n",
        "print('Recall score for model 1',recall_score(pred1,y_test,average='weighted'))\n",
        "print('Precision score for model 1',precision_score(pred1,y_test,average='weighted'))\n",
        "print('F1 Score score for model 1',f1_score(pred1,y_test,average='weighted'))\n",
        "\n",
        "\n"
      ],
      "metadata": {
        "colab": {
          "base_uri": "https://localhost:8080/"
        },
        "id": "v6MklYbQbB_T",
        "outputId": "351cbe47-d6fb-493c-d458-bdfc7bd4535d"
      },
      "execution_count": null,
      "outputs": [
        {
          "output_type": "stream",
          "name": "stdout",
          "text": [
            "Accuracy score for model 1 0.9226666666666666\n",
            "Recall score for model 1 0.9226666666666666\n",
            "Precision score for model 1 0.9270373464131033\n",
            "F1 Score score for model 1 0.9245346066375659\n"
          ]
        }
      ]
    },
    {
      "cell_type": "code",
      "source": [
        "from sklearn.metrics import confusion_matrix,ConfusionMatrixDisplay\n",
        "cm=confusion_matrix(y_test, pred)\n",
        "disp = ConfusionMatrixDisplay(confusion_matrix=cm,display_labels=model.classes_)\n",
        "disp.plot()\n",
        "plt.show()"
      ],
      "metadata": {
        "colab": {
          "base_uri": "https://localhost:8080/",
          "height": 449
        },
        "id": "mXkhaAembpCV",
        "outputId": "b4d06611-1e80-4fb7-a156-bb10dffd7b40"
      },
      "execution_count": null,
      "outputs": [
        {
          "output_type": "display_data",
          "data": {
            "text/plain": [
              "<Figure size 640x480 with 2 Axes>"
            ],
            "image/png": "[encoded data removed]"
          },
          "metadata": {}
        }
      ]
    },
    {
      "cell_type": "code",
      "source": [
        "from sklearn.metrics import confusion_matrix,ConfusionMatrixDisplay\n",
        "cm=confusion_matrix(y_test, pred1)\n",
        "disp = ConfusionMatrixDisplay(confusion_matrix=cm,display_labels=model1.classes_)\n",
        "disp.plot()\n",
        "plt.show()"
      ],
      "metadata": {
        "colab": {
          "base_uri": "https://localhost:8080/",
          "height": 449
        },
        "id": "v6lJNLT_bXbz",
        "outputId": "a5c48ae0-c270-42d3-8442-21b95d219372"
      },
      "execution_count": null,
      "outputs": [
        {
          "output_type": "display_data",
          "data": {
            "text/plain": [
              "<Figure size 640x480 with 2 Axes>"
            ],
            "image/png": "[encoded data removed]"
          },
          "metadata": {}
        }
      ]
    },
    {
      "cell_type": "markdown",
      "metadata": {
        "id": "Myh_i9lDxSh3"
      },
      "source": [
        "## Test Data Prediction"
      ]
    },
    {
      "cell_type": "code",
      "execution_count": null,
      "metadata": {
        "colab": {
          "base_uri": "https://localhost:8080/"
        },
        "id": "RvmNRfsHxRsR",
        "outputId": "6551d462-c152-4833-9a21-6d91a01078d2"
      },
      "outputs": [
        {
          "output_type": "stream",
          "name": "stderr",
          "text": [
            "/usr/local/lib/python3.10/dist-packages/sklearn/base.py:432: UserWarning: X has feature names, but LogisticRegression was fitted without feature names\n",
            "  warnings.warn(\n"
          ]
        }
      ],
      "source": [
        "test_pred = model.predict(test_data)\n",
        "test_results = pd.DataFrame(test_pred)\n",
        "test_results.columns = [\"Label\"]\n",
        "test_results.to_csv(\"submission.csv\", index = False)\n",
        "# files.download('submission.csv')"
      ]
    }
  ],
  "metadata": {
    "colab": {
      "provenance": []
    },
    "kernelspec": {
      "display_name": "Python 3",
      "language": "python",
      "name": "python3"
    },
    "language_info": {
      "codemirror_mode": {
        "name": "ipython",
        "version": 3
      },
      "file_extension": ".py",
      "mimetype": "text/x-python",
      "name": "python",
      "nbconvert_exporter": "python",
      "pygments_lexer": "ipython3",
      "version": "3.8.5"
    }
  },
  "nbformat": 4,
  "nbformat_minor": 0
}